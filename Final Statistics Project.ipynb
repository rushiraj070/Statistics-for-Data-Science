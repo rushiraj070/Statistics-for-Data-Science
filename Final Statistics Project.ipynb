{
 "cells": [
  {
   "cell_type": "code",
   "execution_count": null,
   "id": "9f5dae48-5235-43c3-bf22-5097463ccdc4",
   "metadata": {},
   "outputs": [],
   "source": []
  },
  {
   "cell_type": "markdown",
   "id": "72b48671-f1e0-4604-9faa-87ce922505e4",
   "metadata": {},
   "source": [
    "Import the libraries we need for the lab\n"
   ]
  },
  {
   "cell_type": "code",
   "execution_count": 1,
   "id": "322be166-7126-4329-832a-38601fdc1c8a",
   "metadata": {},
   "outputs": [],
   "source": [
    "import numpy as np\n",
    "import pandas as pd\n",
    "import seaborn as sns\n",
    "import matplotlib.pyplot as plt\n",
    "import scipy.stats\n",
    "from math import sqrt\n",
    "import statsmodels.api as sm"
   ]
  },
  {
   "cell_type": "markdown",
   "id": "2db4691b-c97a-47a1-9b06-d27feaa7521e",
   "metadata": {},
   "source": [
    "Read in the csv file from the url using the request library\n"
   ]
  },
  {
   "cell_type": "code",
   "execution_count": 2,
   "id": "865cef00-1df1-4335-9ec5-465fc6cfc489",
   "metadata": {},
   "outputs": [],
   "source": [
    "boston_url = 'https://cf-courses-data.s3.us.cloud-object-storage.appdomain.cloud/IBMDeveloperSkillsNetwork-ST0151EN-SkillsNetwork/labs/boston_housing.csv'\n",
    "boston_df=pd.read_csv(boston_url)"
   ]
  },
  {
   "cell_type": "code",
   "execution_count": 3,
   "id": "08341a42-8a3b-42ce-8baf-06c27bc4740a",
   "metadata": {},
   "outputs": [
    {
     "data": {
      "text/html": [
       "<div>\n",
       "<style scoped>\n",
       "    .dataframe tbody tr th:only-of-type {\n",
       "        vertical-align: middle;\n",
       "    }\n",
       "\n",
       "    .dataframe tbody tr th {\n",
       "        vertical-align: top;\n",
       "    }\n",
       "\n",
       "    .dataframe thead th {\n",
       "        text-align: right;\n",
       "    }\n",
       "</style>\n",
       "<table border=\"1\" class=\"dataframe\">\n",
       "  <thead>\n",
       "    <tr style=\"text-align: right;\">\n",
       "      <th></th>\n",
       "      <th>Unnamed: 0</th>\n",
       "      <th>CRIM</th>\n",
       "      <th>ZN</th>\n",
       "      <th>INDUS</th>\n",
       "      <th>CHAS</th>\n",
       "      <th>NOX</th>\n",
       "      <th>RM</th>\n",
       "      <th>AGE</th>\n",
       "      <th>DIS</th>\n",
       "      <th>RAD</th>\n",
       "      <th>TAX</th>\n",
       "      <th>PTRATIO</th>\n",
       "      <th>LSTAT</th>\n",
       "      <th>MEDV</th>\n",
       "    </tr>\n",
       "  </thead>\n",
       "  <tbody>\n",
       "    <tr>\n",
       "      <th>0</th>\n",
       "      <td>0</td>\n",
       "      <td>0.00632</td>\n",
       "      <td>18.0</td>\n",
       "      <td>2.31</td>\n",
       "      <td>0.0</td>\n",
       "      <td>0.538</td>\n",
       "      <td>6.575</td>\n",
       "      <td>65.2</td>\n",
       "      <td>4.0900</td>\n",
       "      <td>1.0</td>\n",
       "      <td>296.0</td>\n",
       "      <td>15.3</td>\n",
       "      <td>4.98</td>\n",
       "      <td>24.0</td>\n",
       "    </tr>\n",
       "    <tr>\n",
       "      <th>1</th>\n",
       "      <td>1</td>\n",
       "      <td>0.02731</td>\n",
       "      <td>0.0</td>\n",
       "      <td>7.07</td>\n",
       "      <td>0.0</td>\n",
       "      <td>0.469</td>\n",
       "      <td>6.421</td>\n",
       "      <td>78.9</td>\n",
       "      <td>4.9671</td>\n",
       "      <td>2.0</td>\n",
       "      <td>242.0</td>\n",
       "      <td>17.8</td>\n",
       "      <td>9.14</td>\n",
       "      <td>21.6</td>\n",
       "    </tr>\n",
       "    <tr>\n",
       "      <th>2</th>\n",
       "      <td>2</td>\n",
       "      <td>0.02729</td>\n",
       "      <td>0.0</td>\n",
       "      <td>7.07</td>\n",
       "      <td>0.0</td>\n",
       "      <td>0.469</td>\n",
       "      <td>7.185</td>\n",
       "      <td>61.1</td>\n",
       "      <td>4.9671</td>\n",
       "      <td>2.0</td>\n",
       "      <td>242.0</td>\n",
       "      <td>17.8</td>\n",
       "      <td>4.03</td>\n",
       "      <td>34.7</td>\n",
       "    </tr>\n",
       "    <tr>\n",
       "      <th>3</th>\n",
       "      <td>3</td>\n",
       "      <td>0.03237</td>\n",
       "      <td>0.0</td>\n",
       "      <td>2.18</td>\n",
       "      <td>0.0</td>\n",
       "      <td>0.458</td>\n",
       "      <td>6.998</td>\n",
       "      <td>45.8</td>\n",
       "      <td>6.0622</td>\n",
       "      <td>3.0</td>\n",
       "      <td>222.0</td>\n",
       "      <td>18.7</td>\n",
       "      <td>2.94</td>\n",
       "      <td>33.4</td>\n",
       "    </tr>\n",
       "    <tr>\n",
       "      <th>4</th>\n",
       "      <td>4</td>\n",
       "      <td>0.06905</td>\n",
       "      <td>0.0</td>\n",
       "      <td>2.18</td>\n",
       "      <td>0.0</td>\n",
       "      <td>0.458</td>\n",
       "      <td>7.147</td>\n",
       "      <td>54.2</td>\n",
       "      <td>6.0622</td>\n",
       "      <td>3.0</td>\n",
       "      <td>222.0</td>\n",
       "      <td>18.7</td>\n",
       "      <td>5.33</td>\n",
       "      <td>36.2</td>\n",
       "    </tr>\n",
       "  </tbody>\n",
       "</table>\n",
       "</div>"
      ],
      "text/plain": [
       "   Unnamed: 0     CRIM    ZN  INDUS  CHAS    NOX     RM   AGE     DIS  RAD  \\\n",
       "0           0  0.00632  18.0   2.31   0.0  0.538  6.575  65.2  4.0900  1.0   \n",
       "1           1  0.02731   0.0   7.07   0.0  0.469  6.421  78.9  4.9671  2.0   \n",
       "2           2  0.02729   0.0   7.07   0.0  0.469  7.185  61.1  4.9671  2.0   \n",
       "3           3  0.03237   0.0   2.18   0.0  0.458  6.998  45.8  6.0622  3.0   \n",
       "4           4  0.06905   0.0   2.18   0.0  0.458  7.147  54.2  6.0622  3.0   \n",
       "\n",
       "     TAX  PTRATIO  LSTAT  MEDV  \n",
       "0  296.0     15.3   4.98  24.0  \n",
       "1  242.0     17.8   9.14  21.6  \n",
       "2  242.0     17.8   4.03  34.7  \n",
       "3  222.0     18.7   2.94  33.4  \n",
       "4  222.0     18.7   5.33  36.2  "
      ]
     },
     "execution_count": 3,
     "metadata": {},
     "output_type": "execute_result"
    }
   ],
   "source": [
    "boston_df.head()"
   ]
  },
  {
   "cell_type": "code",
   "execution_count": 4,
   "id": "5c36e1a6-94e7-4b3c-8126-9309a0198409",
   "metadata": {},
   "outputs": [
    {
     "data": {
      "text/html": [
       "<div>\n",
       "<style scoped>\n",
       "    .dataframe tbody tr th:only-of-type {\n",
       "        vertical-align: middle;\n",
       "    }\n",
       "\n",
       "    .dataframe tbody tr th {\n",
       "        vertical-align: top;\n",
       "    }\n",
       "\n",
       "    .dataframe thead th {\n",
       "        text-align: right;\n",
       "    }\n",
       "</style>\n",
       "<table border=\"1\" class=\"dataframe\">\n",
       "  <thead>\n",
       "    <tr style=\"text-align: right;\">\n",
       "      <th></th>\n",
       "      <th>CRIM</th>\n",
       "      <th>ZN</th>\n",
       "      <th>INDUS</th>\n",
       "      <th>CHAS</th>\n",
       "      <th>NOX</th>\n",
       "      <th>RM</th>\n",
       "      <th>AGE</th>\n",
       "      <th>DIS</th>\n",
       "      <th>RAD</th>\n",
       "      <th>TAX</th>\n",
       "      <th>PTRATIO</th>\n",
       "      <th>LSTAT</th>\n",
       "      <th>MEDV</th>\n",
       "    </tr>\n",
       "  </thead>\n",
       "  <tbody>\n",
       "    <tr>\n",
       "      <th>0</th>\n",
       "      <td>0.00632</td>\n",
       "      <td>18.0</td>\n",
       "      <td>2.31</td>\n",
       "      <td>0.0</td>\n",
       "      <td>0.538</td>\n",
       "      <td>6.575</td>\n",
       "      <td>65.2</td>\n",
       "      <td>4.09</td>\n",
       "      <td>1.0</td>\n",
       "      <td>296.0</td>\n",
       "      <td>15.3</td>\n",
       "      <td>4.98</td>\n",
       "      <td>24.0</td>\n",
       "    </tr>\n",
       "  </tbody>\n",
       "</table>\n",
       "</div>"
      ],
      "text/plain": [
       "      CRIM    ZN  INDUS  CHAS    NOX     RM   AGE   DIS  RAD    TAX  PTRATIO  \\\n",
       "0  0.00632  18.0   2.31   0.0  0.538  6.575  65.2  4.09  1.0  296.0     15.3   \n",
       "\n",
       "   LSTAT  MEDV  \n",
       "0   4.98  24.0  "
      ]
     },
     "execution_count": 4,
     "metadata": {},
     "output_type": "execute_result"
    }
   ],
   "source": [
    "boston_df.drop('Unnamed: 0', axis = 1, inplace = True)\n",
    "boston_df.head(1)"
   ]
  },
  {
   "cell_type": "markdown",
   "id": "5dad0946-5a0a-4abd-9a56-4803e7367c5a",
   "metadata": {},
   "source": [
    "# Task 4: Generate Descriptive Statistics and Visualizations\n",
    "Generate the following and explain your findings:\n",
    "\n",
    "1. For the \"Median value of owner-occupied homes\" provide a boxplot\n",
    "\n",
    "2. Provide a  bar plot for the Charles river variable\n",
    "\n",
    "3. Provide a boxplot for the MEDV variable vs the AGE variable. (Discretize the age variable into three groups of 35 years and younger, between 35 and 70 years and 70 years and older)\n",
    "\n",
    "4. Provide a scatter plot to show the relationship between Nitric oxide concentrations and the proportion of non-retail business acres per town. What can you say about the relationship?\n",
    "\n",
    "5. Create a histogram for the pupil to teacher ratio variable"
   ]
  },
  {
   "cell_type": "markdown",
   "id": "3eaf412a-0e30-495d-8e48-47f00baf354d",
   "metadata": {
    "tags": []
   },
   "source": [
    "#### 4.1 Boxplot for demonstrating Median value of owner-occupied homes in $1000's within Dataframe.\n"
   ]
  },
  {
   "cell_type": "code",
   "execution_count": 5,
   "id": "bd9e93f2-716a-4821-8571-8a9afe4eebae",
   "metadata": {},
   "outputs": [
    {
     "data": {
      "text/plain": [
       "Text(0.5, 1.0, \"Median value of owner-occupied homes in $1000's\")"
      ]
     },
     "execution_count": 5,
     "metadata": {},
     "output_type": "execute_result"
    },
    {
     "data": {
      "image/png": "[encoded data removed]",
      "text/plain": [
       "<Figure size 640x480 with 1 Axes>"
      ]
     },
     "metadata": {},
     "output_type": "display_data"
    }
   ],
   "source": [
    "# Boxplot for \"Median value of owner-occupied homes\"\n",
    "ax = sns.boxplot(y='MEDV', data=boston_df)\n",
    "ax.set_xlabel(\"Currency in Dollars\")\n",
    "ax.set_ylabel(\"Median Value in Dollars\")\n",
    "ax.set_title(\"Median value of owner-occupied homes in $1000's\")"
   ]
  },
  {
   "cell_type": "markdown",
   "id": "99b5235c-a8dd-40ae-aaaa-feb1b267ae9a",
   "metadata": {},
   "source": [
    "#### 4.2 Bar plot for showing the count of the Charles river variable."
   ]
  },
  {
   "cell_type": "code",
   "execution_count": 6,
   "id": "e731868c-025d-4461-8908-d093e26a4893",
   "metadata": {},
   "outputs": [
    {
     "data": {
      "image/png": "[encoded data removed]",
      "text/plain": [
       "<Figure size 500x500 with 1 Axes>"
      ]
     },
     "metadata": {},
     "output_type": "display_data"
    }
   ],
   "source": [
    "#  Bar plot for the Charles river variable\n",
    "\n",
    "ax = sns.catplot(x='CHAS', kind='count', data=boston_df)"
   ]
  },
  {
   "cell_type": "markdown",
   "id": "0f5053ae-c26c-40d3-b0a3-3c13a69b63f2",
   "metadata": {},
   "source": [
    "#### 4.3 For plotting the relationship between Median-Value and Age through Box Plot."
   ]
  },
  {
   "cell_type": "code",
   "execution_count": 7,
   "id": "8c9aa4dc-8b07-4d5c-bc36-43016922307e",
   "metadata": {},
   "outputs": [],
   "source": [
    "# Boxplot for the MEDV variable vs the AGE variable\n",
    "\n",
    "boston_df.loc[(boston_df['AGE'] <= 35), 'AGE_GROUP'] = '35 years and younger'\n",
    "boston_df.loc[(boston_df['AGE'] > 35)&(boston_df['AGE'] < 70), 'AGE_GROUP'] = 'between 35 and 70 years'\n",
    "boston_df.loc[(boston_df['AGE'] >= 70), 'AGE_GROUP'] = '70 years and older'"
   ]
  },
  {
   "cell_type": "code",
   "execution_count": 8,
   "id": "da31c0e7-4eb2-4413-9fc6-d9591ad452a6",
   "metadata": {},
   "outputs": [
    {
     "data": {
      "text/plain": [
       "Text(0.5, 1.0, 'Boxplot for AGE Vs MEDIAN-VALUE')"
      ]
     },
     "execution_count": 8,
     "metadata": {},
     "output_type": "execute_result"
    },
    {
     "data": {
      "image/png": "[encoded data removed]",
      "text/plain": [
       "<Figure size 640x480 with 1 Axes>"
      ]
     },
     "metadata": {},
     "output_type": "display_data"
    }
   ],
   "source": [
    "ax = sns.boxplot(x=\"MEDV\", y=\"AGE_GROUP\", data=boston_df)\n",
    "ax.set_xlabel(\"Median value of owner-occupied homes in $1000's\")\n",
    "ax.set_ylabel(\"Age in Years\")\n",
    "ax.set_title(\"Boxplot for AGE Vs MEDIAN-VALUE\")"
   ]
  },
  {
   "cell_type": "markdown",
   "id": "8fa328ec-cc62-4bee-8379-9a783314ff37",
   "metadata": {
    "tags": []
   },
   "source": [
    "#### 4.4 Scatterplot between Nitric oxide concentrations and the proportion of non-retail business acres per town.\n"
   ]
  },
  {
   "cell_type": "code",
   "execution_count": 9,
   "id": "5583473d-6b9c-4acb-add9-0e49310f88c9",
   "metadata": {},
   "outputs": [
    {
     "data": {
      "image/png": "[encoded data removed]",
      "text/plain": [
       "<Figure size 640x480 with 1 Axes>"
      ]
     },
     "metadata": {},
     "output_type": "display_data"
    }
   ],
   "source": [
    "# scatter plot for NOX Vs INDUS\n",
    "\n",
    "ax = sns.scatterplot(x='NOX', y='INDUS',data=boston_df, color = \"r\")"
   ]
  },
  {
   "cell_type": "markdown",
   "id": "773892fa-4826-422f-a796-ca294075918b",
   "metadata": {},
   "source": [
    "#### 4.5 Histogram for the pupil to teacher ratio"
   ]
  },
  {
   "cell_type": "code",
   "execution_count": 10,
   "id": "b5e877ec-e2eb-4d3f-8a5f-4ef07fbad843",
   "metadata": {},
   "outputs": [
    {
     "data": {
      "image/png": "[encoded data removed]",
      "text/plain": [
       "<Figure size 640x480 with 1 Axes>"
      ]
     },
     "metadata": {},
     "output_type": "display_data"
    }
   ],
   "source": [
    "# Histogram for the pupil to teacher ratio by matplotlib\n",
    "\n",
    "plt.hist(boston_df['PTRATIO'], color = \"orange\")\n",
    "plt.xlabel(\"Pupil to Teacher ratio\")\n",
    "plt.ylabel(\"Count of P/T ratio\")\n",
    "plt.title(\"Histogram for the Pupil to Teacher ratio\")\n",
    "plt.show()"
   ]
  },
  {
   "cell_type": "code",
   "execution_count": 11,
   "id": "879ead35-aaca-467c-b6a1-f359b8252d52",
   "metadata": {},
   "outputs": [
    {
     "data": {
      "text/plain": [
       "Text(0.5, 1.0, 'Histogram for the Pupil to Teacher ratio')"
      ]
     },
     "execution_count": 11,
     "metadata": {},
     "output_type": "execute_result"
    },
    {
     "data": {
      "image/png": "[encoded data removed]",
      "text/plain": [
       "<Figure size 640x480 with 1 Axes>"
      ]
     },
     "metadata": {},
     "output_type": "display_data"
    }
   ],
   "source": [
    "# Histogram for the pupil to teacher ratio by seaborn\n",
    "\n",
    "\n",
    "ax = sns.histplot(x=\"PTRATIO\", data=boston_df, color = \"orange\")\n",
    "ax.set_xlabel(\"Pupil to Teacher ratio\")\n",
    "ax.set_ylabel(\"Count of P/T ratio\")\n",
    "ax.set_title(\"Histogram for the Pupil to Teacher ratio\")"
   ]
  },
  {
   "cell_type": "markdown",
   "id": "1ac8ee75-91e9-45f7-9ac0-77bde48aee4f",
   "metadata": {},
   "source": [
    "# Task 5: Use the appropriate tests to answer the questions provided.\n",
    "\n",
    "For each of the following questions;\n",
    "\n",
    "1. Is there a significant difference in median value of houses bounded by the Charles river or not? (T-test for independent samples)\n",
    "\n",
    "2. Is there a difference in Median values of houses (MEDV) for each proportion of owner occupied units built prior to 1940 (AGE)? (ANOVA)\n",
    "\n",
    "3. Can we conclude that there is no relationship between Nitric oxide concentrations and proportion of non-retail business acres per town? (Pearson Correlation)\n",
    "\n",
    "4. What is the impact of an additional weighted distance  to the five Boston employment centres on the median value of owner occupied homes? (Regression analysis)\n",
    "\n",
    "Be sure to:\n",
    "\n",
    "State your hypothesis.\n",
    "\n",
    "Use α = 0.05\n",
    "\n",
    "Perform the test Statistics.\n",
    "\n",
    "State the conclusion from the test."
   ]
  },
  {
   "cell_type": "markdown",
   "id": "59d2fed9-a1ef-48b5-bddd-456909fb5865",
   "metadata": {
    "tags": []
   },
   "source": [
    "#### 5.1 T-Test: Is there a significant difference in median value of houses bounded by the Charles river or not?\n"
   ]
  },
  {
   "cell_type": "markdown",
   "id": "3ccd8a97-be2c-496a-8781-e71e9f72c89c",
   "metadata": {},
   "source": [
    "State the hypothesis\n",
    "\n",
    "*   $H0: µ1 = µ2$ (\"there is no difference in median value of houses bounded by the Charles river\")\n",
    "*   $H1: µ1 ≠ µ2$ (\"there is a difference in median value of houses bounded by the Charles river\")\n"
   ]
  },
  {
   "cell_type": "code",
   "execution_count": 14,
   "id": "36f7c965-20e1-4be5-b133-7d145e9f2ac9",
   "metadata": {
    "scrolled": true
   },
   "outputs": [
    {
     "data": {
      "text/plain": [
       "LeveneResult(statistic=8.75190489604598, pvalue=0.003238119367639829)"
      ]
     },
     "execution_count": 14,
     "metadata": {},
     "output_type": "execute_result"
    }
   ],
   "source": [
    "scipy.stats.levene(boston_df[boston_df['CHAS'] == 1 ]['MEDV'],\n",
    "                   boston_df[boston_df['CHAS'] == 0 ]['MEDV'], center='mean')"
   ]
  },
  {
   "cell_type": "markdown",
   "id": "acf5f937-ae78-47d1-8f70-add25d37539c",
   "metadata": {},
   "source": [
    "Since the p-value is not greater than 0.05 we cannot assume equality of variance"
   ]
  },
  {
   "cell_type": "code",
   "execution_count": 16,
   "id": "37ce4077-2109-4a8a-b39a-5e7e1927c28b",
   "metadata": {
    "scrolled": true
   },
   "outputs": [
    {
     "data": {
      "text/plain": [
       "Ttest_indResult(statistic=3.113291312794837, pvalue=0.003567170098137517)"
      ]
     },
     "execution_count": 16,
     "metadata": {},
     "output_type": "execute_result"
    }
   ],
   "source": [
    "scipy.stats.ttest_ind(boston_df[boston_df['CHAS'] == 1 ]['MEDV'],\n",
    "                   boston_df[boston_df['CHAS'] == 0 ]['MEDV'], equal_var = False)"
   ]
  },
  {
   "cell_type": "markdown",
   "id": "1bcbdef5-e481-4c95-9b1b-67e1789c9290",
   "metadata": {},
   "source": [
    "**Conclusion:** Since the p-value is less than alpha value 0.05, we reject the null hypothesis as there is enough proof that there is a statistical difference in median value of houses bounded by the Charles river.\n"
   ]
  },
  {
   "cell_type": "markdown",
   "id": "a4213538-98e7-4fcf-8407-bcef714dbf01",
   "metadata": {},
   "source": [
    "#### 5.2 ANOVA-Test: Is there a difference in Median values of houses (MEDV) for each proportion of owner occupied units built prior to 1940 (AGE)?\n"
   ]
  },
  {
   "cell_type": "markdown",
   "id": "175690ae-a69a-4a58-b82e-d0af0428084a",
   "metadata": {},
   "source": [
    "State the hypothesis\n",
    "\n",
    "*   $H0: µ1 = µ2 = µ3$ (the three age means are equal)\n",
    "*   $H1:$ At least one of the means differ"
   ]
  },
  {
   "cell_type": "code",
   "execution_count": 17,
   "id": "fceca311-9b97-4d7a-981e-d8ad0ea6e48e",
   "metadata": {},
   "outputs": [
    {
     "data": {
      "text/plain": [
       "LeveneResult(statistic=2.7806200293748304, pvalue=0.06295337343259205)"
      ]
     },
     "execution_count": 17,
     "metadata": {},
     "output_type": "execute_result"
    }
   ],
   "source": [
    "scipy.stats.levene(boston_df[boston_df['AGE_GROUP'] == '35 years and younger']['MEDV'],\n",
    "                   boston_df[boston_df['AGE_GROUP'] == 'between 35 and 70 years']['MEDV'], \n",
    "                   boston_df[boston_df['AGE_GROUP'] == '70 years and older']['MEDV'], \n",
    "                   center='mean')"
   ]
  },
  {
   "cell_type": "markdown",
   "id": "35cacb2f-245a-4ba8-b929-d1709087132e",
   "metadata": {},
   "source": [
    "Since the p-value is greater than 0.05, the variance is equal."
   ]
  },
  {
   "cell_type": "code",
   "execution_count": 18,
   "id": "4b327ebd-6a2c-4290-8a61-1ddf917c803f",
   "metadata": {},
   "outputs": [],
   "source": [
    "thirtyfive_lower = boston_df[boston_df['AGE_GROUP'] == '35 years and younger']['MEDV']\n",
    "thirtyfive_seventy = boston_df[boston_df['AGE_GROUP'] == 'between 35 and 70 years']['MEDV']\n",
    "seventy_older = boston_df[boston_df['AGE_GROUP'] == '70 years and older']['MEDV']"
   ]
  },
  {
   "cell_type": "code",
   "execution_count": 19,
   "id": "f617b456-8da5-4be5-830c-2dd643a9355c",
   "metadata": {},
   "outputs": [
    {
     "name": "stdout",
     "output_type": "stream",
     "text": [
      "F_Statistic: 36.40764999196599, P-Value: 1.7105011022702984e-15\n"
     ]
    }
   ],
   "source": [
    "f_statistic, p_value = scipy.stats.f_oneway(thirtyfive_lower, thirtyfive_seventy, seventy_older)\n",
    "print(\"F_Statistic: {0}, P-Value: {1}\".format(f_statistic,p_value))"
   ]
  },
  {
   "cell_type": "markdown",
   "id": "ce638f69-b12e-410a-b616-aba6a20e69a7",
   "metadata": {},
   "source": [
    "**Conclusion:** Since the p-value is less than 0.05, we will reject the null hypothesis as there is significant evidence that at least one of the means differ.\n"
   ]
  },
  {
   "cell_type": "markdown",
   "id": "ed7f8fb5-024f-4ddf-a833-2317443371b2",
   "metadata": {
    "tags": []
   },
   "source": [
    "#### 5.3 Pearson Correlation-Test: Can we conclude that there is no relationship between Nitric oxide concentrations and proportion of non-retail business acres per town?"
   ]
  },
  {
   "cell_type": "markdown",
   "id": "3745e99d-1b1c-4f79-a0c4-2ed7d09e43c0",
   "metadata": {},
   "source": [
    "State the hypothesis:\n",
    "\n",
    "*   $H0:$ NOX concentrations are not correlated with proportion of non-retail business acres per town\n",
    "*   $H1:$ NOX concentrations are correlated with proportion of non-retail business acres per town\n"
   ]
  },
  {
   "cell_type": "code",
   "execution_count": 20,
   "id": "84506c39-c0de-491c-aa4b-41c82e84f821",
   "metadata": {},
   "outputs": [
    {
     "data": {
      "image/png": "[encoded data removed]",
      "text/plain": [
       "<Figure size 640x480 with 1 Axes>"
      ]
     },
     "metadata": {},
     "output_type": "display_data"
    }
   ],
   "source": [
    "ax = sns.scatterplot(x=\"NOX\", y=\"INDUS\", data=boston_df)"
   ]
  },
  {
   "cell_type": "code",
   "execution_count": 21,
   "id": "2e2d355b-269c-49ec-928d-9e62e65aefeb",
   "metadata": {},
   "outputs": [
    {
     "data": {
      "text/plain": [
       "PearsonRResult(statistic=0.7636514469209151, pvalue=7.913361061238693e-98)"
      ]
     },
     "execution_count": 21,
     "metadata": {},
     "output_type": "execute_result"
    }
   ],
   "source": [
    "scipy.stats.pearsonr(boston_df['NOX'], boston_df['INDUS'])"
   ]
  },
  {
   "cell_type": "markdown",
   "id": "0e676ce0-ccdb-48c8-a80a-eaf3743d778f",
   "metadata": {},
   "source": [
    "**Conclusion:** Since the p-value  (Sig. (2-tailed)  < 0.05, we reject  the Null hypothesis and conclude that there  exists a relationship between Nitric oxide concentrations and proportion of non-retail business acres per town.\n"
   ]
  },
  {
   "cell_type": "markdown",
   "id": "8dfd4619-eab2-432e-a508-8095527518f9",
   "metadata": {
    "tags": []
   },
   "source": [
    "#### 5.4 Regression analysis: What is the impact of an additional weighted distance to the five Boston employment centres on the median value of owner occupied homes?"
   ]
  },
  {
   "cell_type": "code",
   "execution_count": 23,
   "id": "294160d2-2b1c-4e00-aaea-771366b326ad",
   "metadata": {},
   "outputs": [
    {
     "data": {
      "text/html": [
       "<table class=\"simpletable\">\n",
       "<caption>OLS Regression Results</caption>\n",
       "<tr>\n",
       "  <th>Dep. Variable:</th>          <td>MEDV</td>       <th>  R-squared:         </th> <td>   0.062</td>\n",
       "</tr>\n",
       "<tr>\n",
       "  <th>Model:</th>                   <td>OLS</td>       <th>  Adj. R-squared:    </th> <td>   0.061</td>\n",
       "</tr>\n",
       "<tr>\n",
       "  <th>Method:</th>             <td>Least Squares</td>  <th>  F-statistic:       </th> <td>   33.58</td>\n",
       "</tr>\n",
       "<tr>\n",
       "  <th>Date:</th>             <td>Thu, 05 Jan 2023</td> <th>  Prob (F-statistic):</th> <td>1.21e-08</td>\n",
       "</tr>\n",
       "<tr>\n",
       "  <th>Time:</th>                 <td>18:15:52</td>     <th>  Log-Likelihood:    </th> <td> -1823.9</td>\n",
       "</tr>\n",
       "<tr>\n",
       "  <th>No. Observations:</th>      <td>   506</td>      <th>  AIC:               </th> <td>   3652.</td>\n",
       "</tr>\n",
       "<tr>\n",
       "  <th>Df Residuals:</th>          <td>   504</td>      <th>  BIC:               </th> <td>   3660.</td>\n",
       "</tr>\n",
       "<tr>\n",
       "  <th>Df Model:</th>              <td>     1</td>      <th>                     </th>     <td> </td>   \n",
       "</tr>\n",
       "<tr>\n",
       "  <th>Covariance Type:</th>      <td>nonrobust</td>    <th>                     </th>     <td> </td>   \n",
       "</tr>\n",
       "</table>\n",
       "<table class=\"simpletable\">\n",
       "<tr>\n",
       "    <td></td>       <th>coef</th>     <th>std err</th>      <th>t</th>      <th>P>|t|</th>  <th>[0.025</th>    <th>0.975]</th>  \n",
       "</tr>\n",
       "<tr>\n",
       "  <th>const</th> <td>   18.3901</td> <td>    0.817</td> <td>   22.499</td> <td> 0.000</td> <td>   16.784</td> <td>   19.996</td>\n",
       "</tr>\n",
       "<tr>\n",
       "  <th>DIS</th>   <td>    1.0916</td> <td>    0.188</td> <td>    5.795</td> <td> 0.000</td> <td>    0.722</td> <td>    1.462</td>\n",
       "</tr>\n",
       "</table>\n",
       "<table class=\"simpletable\">\n",
       "<tr>\n",
       "  <th>Omnibus:</th>       <td>139.779</td> <th>  Durbin-Watson:     </th> <td>   0.570</td>\n",
       "</tr>\n",
       "<tr>\n",
       "  <th>Prob(Omnibus):</th> <td> 0.000</td>  <th>  Jarque-Bera (JB):  </th> <td> 305.104</td>\n",
       "</tr>\n",
       "<tr>\n",
       "  <th>Skew:</th>          <td> 1.466</td>  <th>  Prob(JB):          </th> <td>5.59e-67</td>\n",
       "</tr>\n",
       "<tr>\n",
       "  <th>Kurtosis:</th>      <td> 5.424</td>  <th>  Cond. No.          </th> <td>    9.32</td>\n",
       "</tr>\n",
       "</table><br/><br/>Notes:<br/>[1] Standard Errors assume that the covariance matrix of the errors is correctly specified."
      ],
      "text/plain": [
       "<class 'statsmodels.iolib.summary.Summary'>\n",
       "\"\"\"\n",
       "                            OLS Regression Results                            \n",
       "==============================================================================\n",
       "Dep. Variable:                   MEDV   R-squared:                       0.062\n",
       "Model:                            OLS   Adj. R-squared:                  0.061\n",
       "Method:                 Least Squares   F-statistic:                     33.58\n",
       "Date:                Thu, 05 Jan 2023   Prob (F-statistic):           1.21e-08\n",
       "Time:                        18:15:52   Log-Likelihood:                -1823.9\n",
       "No. Observations:                 506   AIC:                             3652.\n",
       "Df Residuals:                     504   BIC:                             3660.\n",
       "Df Model:                           1                                         \n",
       "Covariance Type:            nonrobust                                         \n",
       "==============================================================================\n",
       "                 coef    std err          t      P>|t|      [0.025      0.975]\n",
       "------------------------------------------------------------------------------\n",
       "const         18.3901      0.817     22.499      0.000      16.784      19.996\n",
       "DIS            1.0916      0.188      5.795      0.000       0.722       1.462\n",
       "==============================================================================\n",
       "Omnibus:                      139.779   Durbin-Watson:                   0.570\n",
       "Prob(Omnibus):                  0.000   Jarque-Bera (JB):              305.104\n",
       "Skew:                           1.466   Prob(JB):                     5.59e-67\n",
       "Kurtosis:                       5.424   Cond. No.                         9.32\n",
       "==============================================================================\n",
       "\n",
       "Notes:\n",
       "[1] Standard Errors assume that the covariance matrix of the errors is correctly specified.\n",
       "\"\"\""
      ]
     },
     "execution_count": 23,
     "metadata": {},
     "output_type": "execute_result"
    }
   ],
   "source": [
    "X = boston_df['DIS']\n",
    "y = boston_df['MEDV']\n",
    "\n",
    "X = sm.add_constant(X) \n",
    "\n",
    "model = sm.OLS(y, X).fit()\n",
    "predictions = model.predict(X)\n",
    "\n",
    "model.summary()"
   ]
  },
  {
   "cell_type": "markdown",
   "id": "17c797ea-90f7-4c1e-a7ce-d4bcf3263cd1",
   "metadata": {},
   "source": [
    "**Conclusion:** p < 0.05 there is evidence of correlation between additional weighted distance to the five Boston employment centres and the median value of owner occupied homes."
   ]
  },
  {
   "cell_type": "code",
   "execution_count": null,
   "id": "04cbce26-6e08-4f78-a395-7900602b8420",
   "metadata": {},
   "outputs": [],
   "source": []
  }
 ],
 "metadata": {
  "kernelspec": {
   "display_name": "Python 3 (ipykernel)",
   "language": "python",
   "name": "python3"
  },
  "language_info": {
   "codemirror_mode": {
    "name": "ipython",
    "version": 3
   },
   "file_extension": ".py",
   "mimetype": "text/x-python",
   "name": "python",
   "nbconvert_exporter": "python",
   "pygments_lexer": "ipython3",
   "version": "3.8.5"
  }
 },
 "nbformat": 4,
 "nbformat_minor": 5
}
